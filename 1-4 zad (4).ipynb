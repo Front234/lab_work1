{
 "cells": [
  {
   "cell_type": "code",
   "execution_count": null,
   "id": "fab3ab4d-081f-46a6-9eba-e44dc5cfe73a",
   "metadata": {},
   "outputs": [],
   "source": [
    "Создайте новую Markdown-ячейку и:\n",
    "Создайте ячейку Python-кода и:\n",
    "Инуане ааня\n",
    "Напишите заголовок \"Практическое задание №1\" .\n",
    "Добавьте жирный и курсивный текст.\n",
    "Создайте нумерованный и маркированный списки.\n",
    "Вставьте согласно индивидуального задания, например:\n",
    "a^2 + b^2 = c^2\n",
    "Вставьте изображение через ![Описание](URL) .\n",
    "Запросите у пользователя его имя с помощью input() .\n",
    "Выведите приветствие: \"Привет, <имя>! Добро пожаловать в JupyterLab /"
   ]
  },
  {
   "cell_type": "markdown",
   "id": "215c022e-c509-4396-a043-997e7110cdb9",
   "metadata": {},
   "source": [
    "# Практическое задание №1\n",
    "\n",
    "**Это жирный текст**, а *это курсивный текст*.\n",
    "\n",
    "## Нумерованный список:\n",
    "1. Первый пункт.\n",
    "2. Второй пункт.\n",
    "3. Третий пункт.\n",
    "\n",
    "## Маркированный список:\n",
    "- Первый элемент.\n",
    "- Второй элемент.\n",
    "- Третий элемент.\n",
    "\n",
    "## Формула:\n",
    "a² + b² = c²\n",
    "\n",
    "## Изображение:\n",
    "![Собака](https://натуралка.рф/files/products/517676504.800x600w.jpg?4fcb562f5f68b37faef6260850cf6c2f)"
   ]
  },
  {
   "cell_type": "markdown",
   "id": "f4e82fef-9bb9-4c84-8649-a8542a0fbafe",
   "metadata": {},
   "source": [
    "\\[\\log_b(xy) = \\log_b(x) + \\log_b(y).\n",
    "\\]"
   ]
  },
  {
   "cell_type": "code",
   "execution_count": 5,
   "id": "2fe179fd-41e6-462b-9cb0-0b1ab2e57f54",
   "metadata": {},
   "outputs": [
    {
     "name": "stdin",
     "output_type": "stream",
     "text": [
      " BEN\n"
     ]
    },
    {
     "name": "stdout",
     "output_type": "stream",
     "text": [
      "Привет, BEN! Добро пожаловать в JupyterLab\n"
     ]
    }
   ],
   "source": [
    "a = input()\n",
    "print(f'Привет, {a}! Добро пожаловать в JupyterLab')"
   ]
  },
  {
   "cell_type": "markdown",
   "id": "bcd83f92-efa0-4f07-aaca-8f997aa112f4",
   "metadata": {},
   "source": [
    "Базовое выражение для логарифма от произведения:\n",
    "$$\n",
    "\\log_b(xy) = \\log_b(x) + \\log_b(y).\n",
    "$$"
   ]
  },
  {
   "cell_type": "markdown",
   "id": "ef9fb3ac-ff8e-40f4-9af4-0e4816da0d18",
   "metadata": {},
   "source": [
    "1. Создайте и сохраните текстовый файл с помощью open() .\n",
    "2. Запишите в него несколько строк текста.\n",
    "3. Закройте файл и затем откройте его снова, считав содержимое и выведя на\n",
    "экран.\n",
    "4. Проверьте, существует ли файл, используя os.path.exists() .\n",
    "5. Удалите файл с помощью модуля os."
   ]
  },
  {
   "cell_type": "code",
   "execution_count": null,
   "id": "72693b69-8953-4ce7-9cdf-cdb3a0841b81",
   "metadata": {},
   "outputs": [],
   "source": [
    "import os\n",
    "with open(\"example.txt\", \"w\") as f:\n",
    "    f.write(\"Первая строка\\n\")\n",
    "    f.write(\"Вторая строка\\n\")\n",
    "with open(\"example.txt\", \"r\") as f:\n",
    "    content = f.read()\n",
    "print(\"Содержимое файла:\\n\", content)\n",
    "print(\"Файл существует:\", os.path.exists(\"example.txt\"))\n",
    "\n",
    "os.remove(\"example.txt\")\n",
    "print(\"Файл удален.\")\n"
   ]
  },
  {
   "cell_type": "code",
   "execution_count": null,
   "id": "a0de3bfc-6b66-495c-ae86-b7deddda582d",
   "metadata": {},
   "outputs": [],
   "source": [
    "1. Выведите список всех доступных магических команд ( %lsmagic ).\n",
    "2. Используйте %time и %%timeit для измерения времени выполнения кода.\n",
    "3. Создайте Python-скрипт в Jupyter ( %%writefile script.py ) и выполните его\n",
    "через !python script.py .\n",
    "4. Выведите список файлов в текущей директории с помощью %ls .\n",
    "5. Используйте %history для просмотра истории команд"
   ]
  },
  {
   "cell_type": "code",
   "execution_count": null,
   "id": "216a7f92-f34d-4249-81f6-2393dbce9448",
   "metadata": {},
   "outputs": [],
   "source": [
    "%lsmagic"
   ]
  },
  {
   "cell_type": "code",
   "execution_count": null,
   "id": "e348d971-6268-4e5b-87e2-bdddc8c34185",
   "metadata": {},
   "outputs": [],
   "source": [
    "%time sum(range(1000000))"
   ]
  },
  {
   "cell_type": "code",
   "execution_count": null,
   "id": "274565a2-a247-49e2-9888-2d7481945383",
   "metadata": {},
   "outputs": [],
   "source": [
    "%%timeit\n",
    "total = 0\n",
    "for i in range(1000000):\n",
    "    total += i"
   ]
  },
  {
   "cell_type": "code",
   "execution_count": null,
   "id": "328771e5-7cb1-4545-af14-59d538635811",
   "metadata": {},
   "outputs": [],
   "source": [
    "%%writefile my_script.py\n",
    "print(\"Привет, мир!\")"
   ]
  },
  {
   "cell_type": "code",
   "execution_count": null,
   "id": "c22cd566-b7cc-4a25-a01d-b338d2f15ca3",
   "metadata": {},
   "outputs": [],
   "source": [
    "!python my_script.py"
   ]
  },
  {
   "cell_type": "code",
   "execution_count": null,
   "id": "274ed863-4f77-4a64-8cc5-248a2d6eea36",
   "metadata": {},
   "outputs": [],
   "source": [
    "1. Выведите список файлов в текущей директории с помощью !ls .\n",
    "2. Проверьте, какой Python используется ( !which python ).\n",
    "3. Создайте папку test_folder ( !mkdir test_folder ) и убедитесь, что она\n",
    "появилась.\n",
    "4. Переместите файл в новую папку и удалите его.\n",
    "5. Очистите вывод в ячейке ( !clear )"
   ]
  },
  {
   "cell_type": "code",
   "execution_count": null,
   "id": "c890e622-7370-47d1-ba70-d6b1cfbf883c",
   "metadata": {
    "scrolled": true
   },
   "outputs": [],
   "source": [
    "\n",
    "!dir\n",
    "!where python\n",
    "!mkdir test_folder\n",
    "!dir\n",
    "!echo.> example.txt\n",
    "!move example.txt test_folder\\\n",
    "!dir test_folder\\\n",
    "!del test_folder\\example.txt\n",
    "!dir test_folder\\"
   ]
  },
  {
   "cell_type": "code",
   "execution_count": null,
   "id": "64b314c5-e473-4c06-9012-bfc9c2b24868",
   "metadata": {},
   "outputs": [],
   "source": [
    "%ls"
   ]
  },
  {
   "cell_type": "code",
   "execution_count": null,
   "id": "59f7e595-4a17-475d-ad9e-c79b36bc059d",
   "metadata": {},
   "outputs": [],
   "source": [
    "%history"
   ]
  },
  {
   "cell_type": "markdown",
   "id": "6e4b3aa6-f13f-4250-a6b5-9951b4585977",
   "metadata": {},
   "source": [
    "1. Выведите список файлов в текущей директории с помощью !ls .\n",
    "2. Проверьте, какой Python используется ( !which python ).\n",
    "3. Создайте папку test_folder ( !mkdir test_folder ) и убедитесь, что она\n",
    "появилась.\n",
    "4. Переместите файл в новую папку и удалите его.\n",
    "5. Очистите вывод в ячейке ( !clear )."
   ]
  },
  {
   "cell_type": "code",
   "execution_count": null,
   "id": "97a404fd-cced-44e1-af19-6bfc3adb66c9",
   "metadata": {},
   "outputs": [],
   "source": [
    "!where python"
   ]
  },
  {
   "cell_type": "code",
   "execution_count": null,
   "id": "ad38d3cb-ac9b-4510-b6f8-95658453ac1c",
   "metadata": {
    "scrolled": true
   },
   "outputs": [],
   "source": [
    "# 1. Вывести список файлов и папок\n",
    "!dir\n",
    "# 2. Создать папку new_folder\n",
    "!mkdir new_folder\n",
    "# 3. Переместить файл some.txt в папку new_folder\n",
    "!move some.txt new_folder\\\n",
    "# 4. Вывести содержимое папки new_folder\n",
    "!dir new_folder\\\n",
    "# 5. Удалить файл some.txt из папки new_folder\n",
    "!del new_folder\\some.txt\n",
    "# 6. Удалить папку new_folder (если она пуста)\n",
    "!rmdir new_folder\n",
    "# 7. Очистить экран\n",
    "!cls"
   ]
  }
 ],
 "metadata": {
  "kernelspec": {
   "display_name": "Python [conda env:base] *",
   "language": "python",
   "name": "conda-base-py"
  },
  "language_info": {
   "codemirror_mode": {
    "name": "ipython",
    "version": 3
   },
   "file_extension": ".py",
   "mimetype": "text/x-python",
   "name": "python",
   "nbconvert_exporter": "python",
   "pygments_lexer": "ipython3",
   "version": "3.12.3"
  }
 },
 "nbformat": 4,
 "nbformat_minor": 5
}
