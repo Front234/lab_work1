{
  "nbformat": 4,
  "nbformat_minor": 0,
  "metadata": {
    "colab": {
      "provenance": []
    },
    "kernelspec": {
      "name": "python3",
      "display_name": "Python 3"
    },
    "language_info": {
      "name": "python"
    }
  },
  "cells": [
    {
      "cell_type": "markdown",
      "source": [
        "Подключите Google Drive к Colab с помощью команды для монтирования диска. Проверьте, что ваш диск успешно подключился, используя команду для отображения содержимого папки MyDrive. Создайте и сохраните текстовый файл в Google Drive:\n",
        "Откройте файл my_text_file.txt в режиме записи.\n",
        "Запишите в него несколько строк текста.\n",
        "Закройте файл и убедитесь, что он появился в папке MyDrive.\n",
        "Прочитайте файл из Google Drive:\n",
        "Откройте ранее созданный файл.\n",
        "Считайте его содержимое и выведите в ячейке.\n",
        "Создайте и сохраните CSV-файл вручную, используя Microsoft Excel или Libre Office Calc:\n",
        "Создайте список с данными о студентах (например, ФИО, возраст, группа).\n",
        "Сохраните этот список в CSV-файл в Google Drive вручную, используя стандартные методы записи в файл.\n"
      ],
      "metadata": {
        "id": "RES5U626q3ai"
      }
    },
    {
      "cell_type": "code",
      "execution_count": 1,
      "metadata": {
        "colab": {
          "base_uri": "https://localhost:8080/"
        },
        "id": "-m41BjWvq2Ua",
        "outputId": "352cd881-5a0d-4d2c-c992-662685cc0cbd"
      },
      "outputs": [
        {
          "output_type": "stream",
          "name": "stdout",
          "text": [
            "Mounted at /content/drive\n",
            "Файл успешно сохранен в Google Drive.\n",
            "Содержимое файла:\n",
            " Это тестовый файл, сохраненный в Google Drive.\n",
            "Вторая строка текста.\n",
            "Файл students.csv успешно сохранен в Google Drive.\n"
          ]
        }
      ],
      "source": [
        "from google.colab import drive\n",
        "# Подключение Google Drive\n",
        "drive.mount('/content/drive')\n",
        "# Запись текста в файл\n",
        "file_path = \"/content/drive/MyDrive/my_text_file.txt\"\n",
        "with open(file_path, \"w\") as f:\n",
        "  f.write(\"Это тестовый файл, сохраненный в Google Drive.\\n\")\n",
        "  f.write(\"Вторая строка текста.\")\n",
        "print(\"Файл успешно сохранен в Google Drive.\")\n",
        "# Чтение файла\n",
        "with open(file_path, \"r\") as f:\n",
        "    content = f.read()\n",
        "print(\"Содержимое файла:\\n\", content)\n",
        "# Создание CSV вручную\n",
        "students = [\n",
        "[\"Иванов И.И.\", 20, \"ИВТ-101\"],\n",
        "[\"Петров П.П.\", 22, \"ИВТ-102\"],\n",
        "[\"Сидорова А.А.\", 21, \"ИВТ-103\"]\n",
        "]\n",
        "csv_path = \"/content/drive/MyDrive/students.csv\"\n",
        "with open(csv_path, \"w\") as f:\n",
        "  for student in students:\n",
        "    f.write(\",\".join(map(str, student)) + \"\\n\")\n",
        "print(\"Файл students.csv успешно сохранен в Google Drive.\")\n"
      ]
    }
  ]
}